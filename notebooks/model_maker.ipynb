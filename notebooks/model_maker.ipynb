{
 "cells": [
  {
   "cell_type": "markdown",
   "metadata": {},
   "source": [
    "# Imports and downloads"
   ]
  },
  {
   "cell_type": "code",
   "execution_count": 10,
   "metadata": {},
   "outputs": [
    {
     "name": "stderr",
     "output_type": "stream",
     "text": [
      "[nltk_data] Downloading package vader_lexicon to\n",
      "[nltk_data]     C:\\Users\\fbazm\\AppData\\Roaming\\nltk_data...\n",
      "[nltk_data]   Package vader_lexicon is already up-to-date!\n"
     ]
    },
    {
     "data": {
      "text/plain": [
       "True"
      ]
     },
     "execution_count": 10,
     "metadata": {},
     "output_type": "execute_result"
    }
   ],
   "source": [
    "import nltk\n",
    "from nltk.sentiment.vader import SentimentIntensityAnalyzer\n",
    "from deep_translator import GoogleTranslator\n",
    "\n",
    "nltk.download('vader_lexicon')"
   ]
  },
  {
   "cell_type": "markdown",
   "metadata": {},
   "source": [
    "# Instantiate the Analyzer"
   ]
  },
  {
   "cell_type": "code",
   "execution_count": 11,
   "metadata": {},
   "outputs": [],
   "source": [
    "sia = SentimentIntensityAnalyzer()"
   ]
  },
  {
   "cell_type": "markdown",
   "metadata": {},
   "source": [
    "# Analyze function"
   ]
  },
  {
   "cell_type": "code",
   "execution_count": 12,
   "metadata": {},
   "outputs": [],
   "source": [
    "def analisar_sentimento(texto):\n",
    "    sentiment_score = sia.polarity_scores(texto)\n",
    "    print(sentiment_score)\n",
    "    if sentiment_score['compound'] > 0.05:\n",
    "        return 'Positivo'\n",
    "    elif sentiment_score['compound'] < -0.05:\n",
    "        return 'Negativo'\n",
    "    else:\n",
    "        return 'Neutro'\n"
   ]
  },
  {
   "cell_type": "markdown",
   "metadata": {},
   "source": [
    "# Tests"
   ]
  },
  {
   "cell_type": "code",
   "execution_count": 13,
   "metadata": {},
   "outputs": [
    {
     "name": "stdout",
     "output_type": "stream",
     "text": [
      "{'neg': 0.0, 'neu': 0.323, 'pos': 0.677, 'compound': 0.6369}\n",
      "{'neg': 0.538, 'neu': 0.462, 'pos': 0.0, 'compound': -0.5423}\n",
      "{'neg': 0.0, 'neu': 1.0, 'pos': 0.0, 'compound': 0.0}\n",
      "Frase: I love the moon - Sentimento: Positivo\n",
      "Frase: This product is horrible - Sentimento: Negativo\n",
      "Frase: Today is Tuesday - Sentimento: Neutro\n"
     ]
    }
   ],
   "source": [
    "phase_positiva = \"Eu amo a lua\"\n",
    "phase_negativa = \"Esse produto é horrivel\"\n",
    "phase_neutra = \"Hoje é terça\"\n",
    "\n",
    "frase_positiva = GoogleTranslator(source='auto', target='en').translate(phase_positiva)\n",
    "frase_negativa = GoogleTranslator(source='auto', target='en').translate(phase_negativa)\n",
    "frase_neutra = GoogleTranslator(source='auto', target='en').translate(phase_neutra)\n",
    "\n",
    "sentimento_positivo = analisar_sentimento(frase_positiva)\n",
    "sentimento_negativo = analisar_sentimento(frase_negativa)\n",
    "sentimento_neutro = analisar_sentimento(frase_neutra)\n",
    "\n",
    "print(f\"Frase: {frase_positiva} - Sentimento: {sentimento_positivo}\")\n",
    "print(f\"Frase: {frase_negativa} - Sentimento: {sentimento_negativo}\")\n",
    "print(f\"Frase: {frase_neutra} - Sentimento: {sentimento_neutro}\")\n"
   ]
  },
  {
   "cell_type": "code",
   "execution_count": null,
   "metadata": {},
   "outputs": [],
   "source": []
  }
 ],
 "metadata": {
  "kernelspec": {
   "display_name": "sentiment_analysis_api-0tZVutsi",
   "language": "python",
   "name": "python3"
  },
  "language_info": {
   "codemirror_mode": {
    "name": "ipython",
    "version": 3
   },
   "file_extension": ".py",
   "mimetype": "text/x-python",
   "name": "python",
   "nbconvert_exporter": "python",
   "pygments_lexer": "ipython3",
   "version": "3.11.4"
  },
  "orig_nbformat": 4
 },
 "nbformat": 4,
 "nbformat_minor": 2
}
